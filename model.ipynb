{
 "cells": [
  {
   "cell_type": "code",
   "execution_count": 1,
   "metadata": {},
   "outputs": [],
   "source": [
    "import numpy as np"
   ]
  },
  {
   "cell_type": "code",
   "execution_count": 2,
   "metadata": {},
   "outputs": [],
   "source": [
    "# initial values\n",
    "S0 = 100    # stock price at t0\n",
    "K = 103     # strike price\n",
    "T = 1       # Time to maturity in years\n",
    "r = 0.05       # discount rate\n",
    "N = 1       # number of time steps\n",
    "u = 1.1     # up factor\n",
    "d = 0.9     # down factor\n",
    "option_type = \"CALL\""
   ]
  },
  {
   "cell_type": "code",
   "execution_count": 3,
   "metadata": {},
   "outputs": [],
   "source": [
    "def option_value(option_type, stock_price, strike_price):\n",
    "\n",
    "    if option_type == \"PUT\":\n",
    "        return max(0, strike_price - stock_price)\n",
    "\n",
    "    if option_type == \"CALL\":\n",
    "        return max(0, stock_price - strike_price)"
   ]
  },
  {
   "cell_type": "code",
   "execution_count": 10,
   "metadata": {},
   "outputs": [
    {
     "data": {
      "text/plain": [
       "5.03627312822752"
      ]
     },
     "execution_count": 10,
     "metadata": {},
     "output_type": "execute_result"
    }
   ],
   "source": [
    "def binom_price(K,T,S0,r,N,u,d, option_type):\n",
    "    \n",
    "    # precompute\n",
    "    dt = T/N                            # time step length\n",
    "    q = (np.exp(r*dt)-d) / (u-d)   \n",
    "    disc = np.exp(-r*dt)\n",
    "\n",
    "\n",
    "    S = np.zeros(N+1)\n",
    "    S[0] = (d**N)*S0\n",
    "    for i in range(1, N+1):\n",
    "        S[i] = S[i-1] * (u/d)\n",
    "\n",
    "    C = np.zeros(N+1)\n",
    "\n",
    "    for j in range(0, N+1):\n",
    "        C[j] = option_value(option_type, S[j], K)\n",
    "\n",
    "    \n",
    "    matrix = np.vstack(C.copy())\n",
    "    for i in np.arange(N,0,-1):\n",
    "        for j in range(0,i):\n",
    "            C[j] = disc * (q*C[j+1] + (1-q)*C[j])\n",
    "\n",
    "       \n",
    "        \n",
    "    return C[0]\n",
    "\n",
    "\n",
    "\n",
    "binom_price(K,T,S0,r,N,u,d, option_type)\n"
   ]
  }
 ],
 "metadata": {
  "kernelspec": {
   "display_name": "Python 3.10.9 64-bit",
   "language": "python",
   "name": "python3"
  },
  "language_info": {
   "codemirror_mode": {
    "name": "ipython",
    "version": 3
   },
   "file_extension": ".py",
   "mimetype": "text/x-python",
   "name": "python",
   "nbconvert_exporter": "python",
   "pygments_lexer": "ipython3",
   "version": "3.11.3"
  },
  "orig_nbformat": 4,
  "vscode": {
   "interpreter": {
    "hash": "b0fa6594d8f4cbf19f97940f81e996739fb7646882a419484c72d19e05852a7e"
   }
  }
 },
 "nbformat": 4,
 "nbformat_minor": 2
}
